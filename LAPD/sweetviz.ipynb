{
 "cells": [
  {
   "cell_type": "code",
   "execution_count": 2,
   "metadata": {},
   "outputs": [],
   "source": [
    "import sweetviz as sv\n",
    "import pandas as pd\n",
    "from utils import plot_histogram, plot_top_categories\n",
    "import numpy as np"
   ]
  },
  {
   "cell_type": "code",
   "execution_count": 3,
   "metadata": {},
   "outputs": [
    {
     "data": {
      "text/html": [
       "<div>\n",
       "<style scoped>\n",
       "    .dataframe tbody tr th:only-of-type {\n",
       "        vertical-align: middle;\n",
       "    }\n",
       "\n",
       "    .dataframe tbody tr th {\n",
       "        vertical-align: top;\n",
       "    }\n",
       "\n",
       "    .dataframe thead th {\n",
       "        text-align: right;\n",
       "    }\n",
       "</style>\n",
       "<table border=\"1\" class=\"dataframe\">\n",
       "  <thead>\n",
       "    <tr style=\"text-align: right;\">\n",
       "      <th></th>\n",
       "      <th>DR_NO</th>\n",
       "      <th>Date Rptd</th>\n",
       "      <th>DATE OCC</th>\n",
       "      <th>TIME OCC</th>\n",
       "      <th>AREA</th>\n",
       "      <th>AREA NAME</th>\n",
       "      <th>Rpt Dist No</th>\n",
       "      <th>Part 1-2</th>\n",
       "      <th>Crm Cd</th>\n",
       "      <th>Crm Cd Desc</th>\n",
       "      <th>...</th>\n",
       "      <th>Status</th>\n",
       "      <th>Status Desc</th>\n",
       "      <th>Crm Cd 1</th>\n",
       "      <th>Crm Cd 2</th>\n",
       "      <th>Crm Cd 3</th>\n",
       "      <th>Crm Cd 4</th>\n",
       "      <th>LOCATION</th>\n",
       "      <th>Cross Street</th>\n",
       "      <th>LAT</th>\n",
       "      <th>LON</th>\n",
       "    </tr>\n",
       "  </thead>\n",
       "  <tbody>\n",
       "    <tr>\n",
       "      <th>0</th>\n",
       "      <td>190326475</td>\n",
       "      <td>03/01/2020 12:00:00 AM</td>\n",
       "      <td>03/01/2020 12:00:00 AM</td>\n",
       "      <td>2130</td>\n",
       "      <td>7</td>\n",
       "      <td>Wilshire</td>\n",
       "      <td>784</td>\n",
       "      <td>1</td>\n",
       "      <td>510</td>\n",
       "      <td>VEHICLE - STOLEN</td>\n",
       "      <td>...</td>\n",
       "      <td>AA</td>\n",
       "      <td>Adult Arrest</td>\n",
       "      <td>510.0</td>\n",
       "      <td>998.0</td>\n",
       "      <td>NaN</td>\n",
       "      <td>NaN</td>\n",
       "      <td>1900 S  LONGWOOD                     AV</td>\n",
       "      <td>NaN</td>\n",
       "      <td>34.0375</td>\n",
       "      <td>-118.3506</td>\n",
       "    </tr>\n",
       "    <tr>\n",
       "      <th>1</th>\n",
       "      <td>200106753</td>\n",
       "      <td>02/09/2020 12:00:00 AM</td>\n",
       "      <td>02/08/2020 12:00:00 AM</td>\n",
       "      <td>1800</td>\n",
       "      <td>1</td>\n",
       "      <td>Central</td>\n",
       "      <td>182</td>\n",
       "      <td>1</td>\n",
       "      <td>330</td>\n",
       "      <td>BURGLARY FROM VEHICLE</td>\n",
       "      <td>...</td>\n",
       "      <td>IC</td>\n",
       "      <td>Invest Cont</td>\n",
       "      <td>330.0</td>\n",
       "      <td>998.0</td>\n",
       "      <td>NaN</td>\n",
       "      <td>NaN</td>\n",
       "      <td>1000 S  FLOWER                       ST</td>\n",
       "      <td>NaN</td>\n",
       "      <td>34.0444</td>\n",
       "      <td>-118.2628</td>\n",
       "    </tr>\n",
       "    <tr>\n",
       "      <th>2</th>\n",
       "      <td>200320258</td>\n",
       "      <td>11/11/2020 12:00:00 AM</td>\n",
       "      <td>11/04/2020 12:00:00 AM</td>\n",
       "      <td>1700</td>\n",
       "      <td>3</td>\n",
       "      <td>Southwest</td>\n",
       "      <td>356</td>\n",
       "      <td>1</td>\n",
       "      <td>480</td>\n",
       "      <td>BIKE - STOLEN</td>\n",
       "      <td>...</td>\n",
       "      <td>IC</td>\n",
       "      <td>Invest Cont</td>\n",
       "      <td>480.0</td>\n",
       "      <td>NaN</td>\n",
       "      <td>NaN</td>\n",
       "      <td>NaN</td>\n",
       "      <td>1400 W  37TH                         ST</td>\n",
       "      <td>NaN</td>\n",
       "      <td>34.0210</td>\n",
       "      <td>-118.3002</td>\n",
       "    </tr>\n",
       "  </tbody>\n",
       "</table>\n",
       "<p>3 rows × 28 columns</p>\n",
       "</div>"
      ],
      "text/plain": [
       "       DR_NO               Date Rptd                DATE OCC  TIME OCC  AREA  \\\n",
       "0  190326475  03/01/2020 12:00:00 AM  03/01/2020 12:00:00 AM      2130     7   \n",
       "1  200106753  02/09/2020 12:00:00 AM  02/08/2020 12:00:00 AM      1800     1   \n",
       "2  200320258  11/11/2020 12:00:00 AM  11/04/2020 12:00:00 AM      1700     3   \n",
       "\n",
       "   AREA NAME  Rpt Dist No  Part 1-2  Crm Cd            Crm Cd Desc  ...  \\\n",
       "0   Wilshire          784         1     510       VEHICLE - STOLEN  ...   \n",
       "1    Central          182         1     330  BURGLARY FROM VEHICLE  ...   \n",
       "2  Southwest          356         1     480          BIKE - STOLEN  ...   \n",
       "\n",
       "  Status   Status Desc Crm Cd 1 Crm Cd 2  Crm Cd 3 Crm Cd 4  \\\n",
       "0     AA  Adult Arrest    510.0    998.0       NaN      NaN   \n",
       "1     IC   Invest Cont    330.0    998.0       NaN      NaN   \n",
       "2     IC   Invest Cont    480.0      NaN       NaN      NaN   \n",
       "\n",
       "                                  LOCATION Cross Street      LAT       LON  \n",
       "0  1900 S  LONGWOOD                     AV          NaN  34.0375 -118.3506  \n",
       "1  1000 S  FLOWER                       ST          NaN  34.0444 -118.2628  \n",
       "2  1400 W  37TH                         ST          NaN  34.0210 -118.3002  \n",
       "\n",
       "[3 rows x 28 columns]"
      ]
     },
     "execution_count": 3,
     "metadata": {},
     "output_type": "execute_result"
    }
   ],
   "source": [
    "df = pd.read_csv('data/Crime_Data_from_2020_to_Present.csv')\n",
    "df = df.drop_duplicates()\n",
    "df.head(3)"
   ]
  },
  {
   "cell_type": "code",
   "execution_count": 20,
   "metadata": {},
   "outputs": [
    {
     "data": {
      "application/vnd.jupyter.widget-view+json": {
       "model_id": "60f3187a31984957972965a8fabc4697",
       "version_major": 2,
       "version_minor": 0
      },
      "text/plain": [
       "                                             |          | [  0%]   00:00 -> (? left)"
      ]
     },
     "metadata": {},
     "output_type": "display_data"
    },
    {
     "ename": "AttributeError",
     "evalue": "module 'numpy' has no attribute 'VisibleDeprecationWarning'",
     "output_type": "error",
     "traceback": [
      "\u001b[31m---------------------------------------------------------------------------\u001b[39m",
      "\u001b[31mAttributeError\u001b[39m                            Traceback (most recent call last)",
      "\u001b[36mCell\u001b[39m\u001b[36m \u001b[39m\u001b[32mIn[20]\u001b[39m\u001b[32m, line 1\u001b[39m\n\u001b[32m----> \u001b[39m\u001b[32m1\u001b[39m sv_report = \u001b[43msv\u001b[49m\u001b[43m.\u001b[49m\u001b[43manalyze\u001b[49m\u001b[43m(\u001b[49m\u001b[43mdf\u001b[49m\u001b[43m)\u001b[49m\n\u001b[32m      2\u001b[39m sv_report.show_html(\u001b[33m'\u001b[39m\u001b[33msweetviz_report.html\u001b[39m\u001b[33m'\u001b[39m)\n",
      "\u001b[36mFile \u001b[39m\u001b[32m~/miniforge3/envs/env_datafest/lib/python3.12/site-packages/sweetviz/sv_public.py:12\u001b[39m, in \u001b[36manalyze\u001b[39m\u001b[34m(source, target_feat, feat_cfg, pairwise_analysis)\u001b[39m\n\u001b[32m      8\u001b[39m \u001b[38;5;28;01mdef\u001b[39;00m\u001b[38;5;250m \u001b[39m\u001b[34manalyze\u001b[39m(source: Union[pd.DataFrame, Tuple[pd.DataFrame, \u001b[38;5;28mstr\u001b[39m]],\n\u001b[32m      9\u001b[39m             target_feat: \u001b[38;5;28mstr\u001b[39m = \u001b[38;5;28;01mNone\u001b[39;00m,\n\u001b[32m     10\u001b[39m             feat_cfg: FeatureConfig = \u001b[38;5;28;01mNone\u001b[39;00m,\n\u001b[32m     11\u001b[39m             pairwise_analysis: \u001b[38;5;28mstr\u001b[39m = \u001b[33m'\u001b[39m\u001b[33mauto\u001b[39m\u001b[33m'\u001b[39m):\n\u001b[32m---> \u001b[39m\u001b[32m12\u001b[39m     report = \u001b[43msweetviz\u001b[49m\u001b[43m.\u001b[49m\u001b[43mDataframeReport\u001b[49m\u001b[43m(\u001b[49m\u001b[43msource\u001b[49m\u001b[43m,\u001b[49m\u001b[43m \u001b[49m\u001b[43mtarget_feat\u001b[49m\u001b[43m,\u001b[49m\u001b[43m \u001b[49m\u001b[38;5;28;43;01mNone\u001b[39;49;00m\u001b[43m,\u001b[49m\n\u001b[32m     13\u001b[39m \u001b[43m                                      \u001b[49m\u001b[43mpairwise_analysis\u001b[49m\u001b[43m,\u001b[49m\u001b[43m \u001b[49m\u001b[43mfeat_cfg\u001b[49m\u001b[43m)\u001b[49m\n\u001b[32m     14\u001b[39m     \u001b[38;5;28;01mreturn\u001b[39;00m report\n",
      "\u001b[36mFile \u001b[39m\u001b[32m~/miniforge3/envs/env_datafest/lib/python3.12/site-packages/sweetviz/dataframe_report.py:277\u001b[39m, in \u001b[36mDataframeReport.__init__\u001b[39m\u001b[34m(self, source, target_feature_name, compare, pairwise_analysis, fc, verbosity)\u001b[39m\n\u001b[32m    274\u001b[39m \u001b[38;5;28;01mfor\u001b[39;00m f \u001b[38;5;129;01min\u001b[39;00m features_to_process:\n\u001b[32m    275\u001b[39m     \u001b[38;5;66;03m# start = time.perf_counter()\u001b[39;00m\n\u001b[32m    276\u001b[39m     \u001b[38;5;28mself\u001b[39m.progress_bar.set_description_str(\u001b[33mf\u001b[39m\u001b[33m\"\u001b[39m\u001b[33mFeature: \u001b[39m\u001b[38;5;132;01m{\u001b[39;00mf.source.name\u001b[38;5;132;01m}\u001b[39;00m\u001b[33m\"\u001b[39m)\n\u001b[32m--> \u001b[39m\u001b[32m277\u001b[39m     \u001b[38;5;28mself\u001b[39m._features[f.source.name] = \u001b[43msa\u001b[49m\u001b[43m.\u001b[49m\u001b[43manalyze_feature_to_dictionary\u001b[49m\u001b[43m(\u001b[49m\u001b[43mf\u001b[49m\u001b[43m)\u001b[49m\n\u001b[32m    278\u001b[39m     \u001b[38;5;28mself\u001b[39m.progress_bar.update(\u001b[32m1\u001b[39m)\n\u001b[32m    279\u001b[39m     \u001b[38;5;66;03m# print(f\"DONE FEATURE------> {f.source.name}\"\u001b[39;00m\n\u001b[32m    280\u001b[39m     \u001b[38;5;66;03m#       f\" {(time.perf_counter() - start):.2f}   {self._features[f.source.name]['type']}\")\u001b[39;00m\n\u001b[32m    281\u001b[39m \u001b[38;5;66;03m# self.progress_bar.set_description_str('[FEATURES DONE]')\u001b[39;00m\n\u001b[32m    282\u001b[39m \u001b[38;5;66;03m# self.progress_bar.close()\u001b[39;00m\n\u001b[32m    283\u001b[39m \n\u001b[32m    284\u001b[39m \u001b[38;5;66;03m# Wrap up summary\u001b[39;00m\n",
      "\u001b[36mFile \u001b[39m\u001b[32m~/miniforge3/envs/env_datafest/lib/python3.12/site-packages/sweetviz/series_analyzer.py:142\u001b[39m, in \u001b[36manalyze_feature_to_dictionary\u001b[39m\u001b[34m(to_process)\u001b[39m\n\u001b[32m    140\u001b[39m \u001b[38;5;66;03m# Perform full analysis on source/compare/target\u001b[39;00m\n\u001b[32m    141\u001b[39m \u001b[38;5;28;01mif\u001b[39;00m returned_feature_dict[\u001b[33m\"\u001b[39m\u001b[33mtype\u001b[39m\u001b[33m\"\u001b[39m] == FeatureType.TYPE_NUM:\n\u001b[32m--> \u001b[39m\u001b[32m142\u001b[39m     \u001b[43msweetviz\u001b[49m\u001b[43m.\u001b[49m\u001b[43mseries_analyzer_numeric\u001b[49m\u001b[43m.\u001b[49m\u001b[43manalyze\u001b[49m\u001b[43m(\u001b[49m\u001b[43mto_process\u001b[49m\u001b[43m,\u001b[49m\u001b[43m \u001b[49m\u001b[43mreturned_feature_dict\u001b[49m\u001b[43m)\u001b[49m\n\u001b[32m    143\u001b[39m \u001b[38;5;28;01melif\u001b[39;00m returned_feature_dict[\u001b[33m\"\u001b[39m\u001b[33mtype\u001b[39m\u001b[33m\"\u001b[39m] == FeatureType.TYPE_CAT:\n\u001b[32m    144\u001b[39m     sweetviz.series_analyzer_cat.analyze(to_process, returned_feature_dict)\n",
      "\u001b[36mFile \u001b[39m\u001b[32m~/miniforge3/envs/env_datafest/lib/python3.12/site-packages/sweetviz/series_analyzer_numeric.py:102\u001b[39m, in \u001b[36manalyze\u001b[39m\u001b[34m(to_process, feature_dict)\u001b[39m\n\u001b[32m     98\u001b[39m     do_stats_numeric(to_process.compare, compare_dict)\n\u001b[32m    100\u001b[39m do_detail_numeric(to_process.source, to_process.source_counts, to_process.compare_counts, feature_dict)\n\u001b[32m--> \u001b[39m\u001b[32m102\u001b[39m feature_dict[\u001b[33m\"\u001b[39m\u001b[33mminigraph\u001b[39m\u001b[33m\"\u001b[39m] = \u001b[43mGraphNumeric\u001b[49m\u001b[43m(\u001b[49m\u001b[33;43m\"\u001b[39;49m\u001b[33;43mmini\u001b[39;49m\u001b[33;43m\"\u001b[39;49m\u001b[43m,\u001b[49m\u001b[43m \u001b[49m\u001b[43mto_process\u001b[49m\u001b[43m)\u001b[49m\n\u001b[32m    103\u001b[39m feature_dict[\u001b[33m\"\u001b[39m\u001b[33mdetail_graphs\u001b[39m\u001b[33m\"\u001b[39m] = \u001b[38;5;28mlist\u001b[39m()\n\u001b[32m    104\u001b[39m \u001b[38;5;28;01mfor\u001b[39;00m num_bins \u001b[38;5;129;01min\u001b[39;00m [\u001b[32m0\u001b[39m, \u001b[32m5\u001b[39m, \u001b[32m15\u001b[39m, \u001b[32m30\u001b[39m]:\n",
      "\u001b[36mFile \u001b[39m\u001b[32m~/miniforge3/envs/env_datafest/lib/python3.12/site-packages/sweetviz/graph_numeric.py:71\u001b[39m, in \u001b[36mGraphNumeric.__init__\u001b[39m\u001b[34m(self, which_graph, to_process)\u001b[39m\n\u001b[32m     67\u001b[39m     normalizing_weights = norm_source\n\u001b[32m     69\u001b[39m gap_percent = config[\u001b[33m\"\u001b[39m\u001b[33mGraphs\u001b[39m\u001b[33m\"\u001b[39m].getfloat(\u001b[33m\"\u001b[39m\u001b[33msummary_graph_categorical_gap\u001b[39m\u001b[33m\"\u001b[39m)\n\u001b[32m---> \u001b[39m\u001b[32m71\u001b[39m warnings.filterwarnings(\u001b[33m'\u001b[39m\u001b[33mignore\u001b[39m\u001b[33m'\u001b[39m, category=\u001b[43mnp\u001b[49m\u001b[43m.\u001b[49m\u001b[43mVisibleDeprecationWarning\u001b[49m)\n\u001b[32m     72\u001b[39m \u001b[38;5;28mself\u001b[39m.hist_specs = axs.hist(plot_data, weights = normalizing_weights, bins=\u001b[38;5;28mself\u001b[39m.num_bins, \\\n\u001b[32m     73\u001b[39m                            rwidth = (\u001b[32m100.0\u001b[39m - gap_percent) / \u001b[32m100.0\u001b[39m)\n\u001b[32m     74\u001b[39m warnings.filterwarnings(\u001b[33m'\u001b[39m\u001b[33monce\u001b[39m\u001b[33m'\u001b[39m, category=np.VisibleDeprecationWarning)\n",
      "\u001b[36mFile \u001b[39m\u001b[32m~/miniforge3/envs/env_datafest/lib/python3.12/site-packages/numpy/__init__.py:414\u001b[39m, in \u001b[36m__getattr__\u001b[39m\u001b[34m(attr)\u001b[39m\n\u001b[32m    411\u001b[39m     \u001b[38;5;28;01mimport\u001b[39;00m\u001b[38;5;250m \u001b[39m\u001b[34;01mnumpy\u001b[39;00m\u001b[34;01m.\u001b[39;00m\u001b[34;01mchar\u001b[39;00m\u001b[38;5;250m \u001b[39m\u001b[38;5;28;01mas\u001b[39;00m\u001b[38;5;250m \u001b[39m\u001b[34;01mchar\u001b[39;00m\n\u001b[32m    412\u001b[39m     \u001b[38;5;28;01mreturn\u001b[39;00m char.chararray\n\u001b[32m--> \u001b[39m\u001b[32m414\u001b[39m \u001b[38;5;28;01mraise\u001b[39;00m \u001b[38;5;167;01mAttributeError\u001b[39;00m(\u001b[33m\"\u001b[39m\u001b[33mmodule \u001b[39m\u001b[38;5;132;01m{!r}\u001b[39;00m\u001b[33m has no attribute \u001b[39m\u001b[33m\"\u001b[39m\n\u001b[32m    415\u001b[39m                      \u001b[33m\"\u001b[39m\u001b[38;5;132;01m{!r}\u001b[39;00m\u001b[33m\"\u001b[39m.format(\u001b[34m__name__\u001b[39m, attr))\n",
      "\u001b[31mAttributeError\u001b[39m: module 'numpy' has no attribute 'VisibleDeprecationWarning'"
     ]
    },
    {
     "data": {
      "image/png": "[encoded data removed]",
      "text/plain": [
       "<Figure size 290x120 with 1 Axes>"
      ]
     },
     "metadata": {},
     "output_type": "display_data"
    }
   ],
   "source": [
    "sv_report = sv.analyze(df)\n",
    "sv_report.show_html('sweetviz_report.html')"
   ]
  },
  {
   "cell_type": "code",
   "execution_count": null,
   "metadata": {},
   "outputs": [],
   "source": []
  }
 ],
 "metadata": {
  "kernelspec": {
   "display_name": "env_datafest",
   "language": "python",
   "name": "python3"
  },
  "language_info": {
   "codemirror_mode": {
    "name": "ipython",
    "version": 3
   },
   "file_extension": ".py",
   "mimetype": "text/x-python",
   "name": "python",
   "nbconvert_exporter": "python",
   "pygments_lexer": "ipython3",
   "version": "3.12.9"
  }
 },
 "nbformat": 4,
 "nbformat_minor": 2
}
