{
 "cells": [
  {
   "cell_type": "code",
   "execution_count": 5,
   "metadata": {},
   "outputs": [],
   "source": [
    "import pandas as pd\n",
    "\n",
    "df = pd.DataFrame({\n",
    "    'A': [[1, 2, 3], 2, 3],\n",
    "    'B': [4, 5, 6],\n",
    "    'C': [7, 8, 9]})"
   ]
  },
  {
   "cell_type": "code",
   "execution_count": 6,
   "metadata": {},
   "outputs": [
    {
     "name": "stdout",
     "output_type": "stream",
     "text": [
      "             A  B  C\n",
      "0  [100, 2, 3]  4  7\n",
      "1            2  5  8\n",
      "2            3  6  9\n",
      "             A  B  C\n",
      "0  [100, 2, 3]  4  7\n",
      "1            2  5  8\n",
      "2            3  6  9\n",
      "             A  B  C\n",
      "0  [100, 2, 3]  4  7\n",
      "1            2  5  8\n",
      "2            3  6  9\n"
     ]
    }
   ],
   "source": [
    "deep_copy = df.copy(deep=True)\n",
    "shallow_copy = df.copy(deep=False)\n",
    "df.loc[0, 'A'][0] = 100\n",
    "print(deep_copy)\n",
    "print(shallow_copy)\n",
    "print(df)"
   ]
  },
  {
   "cell_type": "code",
   "execution_count": null,
   "metadata": {},
   "outputs": [],
   "source": []
  }
 ],
 "metadata": {
  "kernelspec": {
   "display_name": "env_datafest",
   "language": "python",
   "name": "python3"
  },
  "language_info": {
   "codemirror_mode": {
    "name": "ipython",
    "version": 3
   },
   "file_extension": ".py",
   "mimetype": "text/x-python",
   "name": "python",
   "nbconvert_exporter": "python",
   "pygments_lexer": "ipython3",
   "version": "3.12.9"
  }
 },
 "nbformat": 4,
 "nbformat_minor": 2
}
